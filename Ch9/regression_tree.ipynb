{
 "cells": [
  {
   "cell_type": "code",
   "execution_count": 183,
   "metadata": {},
   "outputs": [],
   "source": [
    "import numpy as np\n",
    "import matplotlib.pyplot as plt\n",
    "\n",
    "class TreeNode(object):\n",
    "    \"\"\"Base class for linear models.\"\"\"\n",
    "\n",
    "    def __init__(self, feature, value, left=None, right=None):\n",
    "        \"\"\"\n",
    "        Args:\n",
    "            feature: split on the feature\n",
    "            value: feature value to split on\n",
    "            left: left branch, could be numeric values, vectors, or other trees \n",
    "            right: right branch, could be numeric values, vectors, or other trees \n",
    "        \"\"\"\n",
    "        self.feature = feature\n",
    "        self.value = value\n",
    "        self.left = left\n",
    "        self.right = right\n",
    "        \n",
    "\n",
    "def load_dataset(file_path):\n",
    "    \"\"\"Load data from file and convert to ndarray.\"\"\"\n",
    "    dataset = np.loadtxt(file_path, dtype=float, delimiter='\\t')\n",
    "    return dataset\n",
    "\n",
    "def binary_split(dataset, feature, value):\n",
    "    \"\"\"Binary split the input dataset on given feature and its value.\n",
    "    \n",
    "    Args:\n",
    "        dataset: ndarray of inputs. Shape (m, n)\n",
    "        feature: split on the feature\n",
    "        value: feature value to split on\n",
    "    Returns:\n",
    "        right: right branch\n",
    "        left: left branch\n",
    "    \"\"\"\n",
    "    left = dataset[dataset[:, feature] > value]\n",
    "    right = dataset[dataset[:, feature] <= value]\n",
    "    return left, right\n",
    "\n",
    "def build_tree(dataset, get_leaf=get_leaf_node, err_calc=calculate_total_variance, ops=(1, 4)):\n",
    "    \"\"\"Build a regression tree using binary split.\n",
    "\n",
    "    Args:\n",
    "        dataset: ndarray of inputs. Shape (m, n)\n",
    "        ops: tuple of parameters for building tree\n",
    "    Returns:\n",
    "        tree_node: the root node of the regression tree\n",
    "    \"\"\"\n",
    "    feature, value = select_best_split(dataset, get_leaf, err_calc, ops)\n",
    "   \n",
    "    # Return leaf value if stopping condition met\n",
    "    if feature == None:\n",
    "        return value\n",
    "    \n",
    "    tree_node = TreeNode(feature, value)\n",
    "    left, right = binary_split(dataset, feature, value)\n",
    "    tree_node.left = build_tree(left, get_leaf, err_calc, ops)\n",
    "    tree_node.right = build_tree(right, get_leaf, err_calc, ops)\n",
    "    \n",
    "    return tree_node\n",
    "\n",
    "def select_best_split(dataset, get_leaf, err_calc, ops):\n",
    "    \"\"\"Select the best split given a dataset. If stopping condition met, return a leaf node.\n",
    "\n",
    "    Args:\n",
    "        dataset: ndarray of inputs. Shape (m, n)\n",
    "        ops: tuple of parameters for stopping condition. (tolerance on error reduction, min examples for a split)\n",
    "    Returns:\n",
    "        feature: index for best splitting feature. If leaf node, return None.\n",
    "        value: best feature value to split on. If leaf node, return leaf value.\n",
    "    \"\"\"\n",
    "    # Return leaf when all examples in dataset are the same\n",
    "    if len(set(dataset[:, -1])) <= 1:\n",
    "        return None, get_leaf(dataset)\n",
    "\n",
    "    min_loss = ops[0]\n",
    "    min_instances = ops[1]\n",
    "    \n",
    "    m, n = dataset.shape\n",
    "    best_feature = 0\n",
    "    best_value = 0 \n",
    "    best_err = float('inf')\n",
    "    prior_err = err_calc(dataset)\n",
    "\n",
    "    for i in range(n - 1):\n",
    "        for val in set(dataset[:, i]):\n",
    "            left, right = binary_split(dataset, i, val)\n",
    "        \n",
    "            if left.shape[0] < min_instances or right.shape[0] < min_instances:\n",
    "                continue\n",
    "\n",
    "            err = err_calc(left) + err_calc(right)\n",
    "            if err < best_err:\n",
    "                best_err = err\n",
    "                best_feature = i\n",
    "                best_value = val\n",
    "    # Return leaf node when total information loss is too low\n",
    "    if (prior_err - best_err) < min_loss:\n",
    "        return None, get_leaf(dataset)\n",
    "\n",
    "    left, right = binary_split(dataset, best_feature, best_value)\n",
    "    # Return leaf node when total num of instances too small\n",
    "    if left.shape[0] < min_instances or right.shape[0] < min_instances:\n",
    "        return None, get_leaf(dataset)\n",
    "    \n",
    "    return best_feature, best_value\n",
    "\n",
    "\n",
    "def get_leaf_node(dataset):\n",
    "    \"\"\"Calculate the mean value for dataset if it's a leaf node.\"\"\"\n",
    "    return np.mean(dataset[:, -1])\n",
    "\n",
    "def calculate_total_variance(dataset):\n",
    "    \"\"\"Calculate the total variance of dataset as a branch.\"\"\"\n",
    "    return np.var(dataset[:, -1]) * dataset.shape[0]\n",
    "\n",
    "def is_tree(obj):\n",
    "    \"\"\"Return True if object is a TreeNode, false if otherwise, i.e. leaf node\"\"\"\n",
    "    return type(obj).__name__ == 'TreeNode'\n",
    "\n",
    "def merge_tree(tree):\n",
    "    \"\"\"Merge the left and right branches of the tree and return merged mean value.\"\"\"\n",
    "    if is_tree(tree.left):\n",
    "        tree.left = merge_tree(tree.left)\n",
    "    if is_tree(tree.right):\n",
    "        tree.right = merge_tree(tree.right)\n",
    "    return (tree.left + tree.right) / 2\n",
    "\n",
    "def prune_tree(tree, testset):\n",
    "    \"\"\"Prune the tree based on test set.\n",
    "    \n",
    "    Args:\n",
    "        tree: a TreeNode object\n",
    "        testset: ndarray of test set. Shape (m', n)\n",
    "    Returns:\n",
    "        pruned_tree: a TreeNode object\n",
    "    \"\"\"\n",
    "    # Collapse tree if no test data for this branch\n",
    "    if testset.shape[0] == 0: \n",
    "        return merge_tree(tree)\n",
    "    \n",
    "    test_left, test_right = binary_split(testset, tree.feature, tree.value)\n",
    "    \n",
    "    if is_tree(tree.left) or is_tree(tree.right):    \n",
    "        if is_tree(tree.left):\n",
    "            tree.left = prune_tree(tree.left, test_left)\n",
    "        if is_tree(tree.right):\n",
    "            tree.right = prune_tree(tree.right, test_right)\n",
    "    else: \n",
    "        err_no_merge = ((test_left[:, -1] - tree.left) ** 2).sum() + ((test_right[:, -1] - tree.right) ** 2).sum()\n",
    "\n",
    "        tree_mean = (tree.left + tree.right) / 2\n",
    "        err_merge = ((testset[:, -1] - tree_mean) ** 2).sum()\n",
    "\n",
    "        if err_merge < err_no_merge:\n",
    "            print('merging')\n",
    "            return tree_mean\n",
    "        else:\n",
    "            return tree\n",
    "    return tree\n",
    "\n",
    "\n",
    "########################### Model Tree ##############################\n",
    "\n",
    "\n",
    "def linear_regression(dataset):\n",
    "    \"\"\"Calculate the linear regression parameters for dataset.\"\"\"\n",
    "    m, n = dataset.shape\n",
    "    x = np.ones((m, n))\n",
    "    x[:, 1:] = dataset[:, :n-1]\n",
    "    y = dataset[:, -1]\n",
    "\n",
    "    X_sq = x.T.dot(x)\n",
    "    if np.linalg.det(X_sq) == 0.0:\n",
    "        print('This is a singular matrix, cannot be inversed.')\n",
    "        return\n",
    "    else:\n",
    "        theta = np.linalg.inv(X_sq).dot(x.T).dot(y)\n",
    "        return theta, x, y\n",
    "\n",
    "def linear_leaf(dataset):\n",
    "    \"\"\"Obtain the linear regression parameters for dataset \n",
    "        when it's a linear model at leaf node.\n",
    "    \"\"\"\n",
    "    theta, x, y = linear_regression(dataset)\n",
    "    return theta\n",
    "\n",
    "def calculate_linear_model_error(dataset):\n",
    "    \"\"\"Function to calculate the RSS of linear model.\"\"\"\n",
    "    theta, x, y = linear_regression(dataset)\n",
    "    y_pred = x.dot(theta)\n",
    "    return ((y_pred - y) ** 2).sum()\n",
    "\n",
    "\n",
    "def tree_predict(tree, x, eval_type='CART'):\n",
    "    \"\"\"Predict the y value given x based on regression tree or model tree.\n",
    "    \n",
    "    Args:\n",
    "        tree: the tree built on training set\n",
    "        x: a test example\n",
    "        eval_type: 'CART' regression tree, 'model' model tree\n",
    "    Returns:\n",
    "        y_pred: a float number of prediction\n",
    "    \"\"\"\n",
    "    if not is_tree(tree):\n",
    "        if eval_type == 'CART':\n",
    "            return tree\n",
    "        elif eval_type == 'model':\n",
    "            return x.dot(tree[1:]) + tree[0]\n",
    "\n",
    "    if x[tree.feature] > tree.value:    # x falls into left branch\n",
    "        return tree_predict(tree.left, x, eval_type)\n",
    "    else:\n",
    "        return tree_predict(tree.right, x, eval_type)\n",
    "\n",
    "def predict(tree, testset, eval_type='CART'):\n",
    "    \"\"\"Predict the y values given test set.\n",
    "\n",
    "    Args:\n",
    "        tree: the tree built on training set\n",
    "        testset: ndarray of test set\n",
    "        eval_type: 'CART' regression tree, 'model' model tree\n",
    "    Returns:\n",
    "        y_pred: array of predictions\n",
    "    \"\"\"\n",
    "    m, n = testset.shape\n",
    "    y_pred = np.zeros(m)\n",
    "\n",
    "    for i in range(m):\n",
    "        y_pred[i] = tree_predict(tree, testset[i, :-1], eval_type)\n",
    "    \n",
    "    return y_pred"
   ]
  },
  {
   "cell_type": "code",
   "execution_count": 160,
   "metadata": {},
   "outputs": [
    {
     "name": "stdout",
     "output_type": "stream",
     "text": [
      "<function get_leaf_node at 0x000001890A44CC18>\n",
      "<function get_leaf_node at 0x000001890A44CC18>\n",
      "<function get_leaf_node at 0x000001890A44CC18>\n",
      "<function get_leaf_node at 0x000001890A44CC18>\n",
      "<function get_leaf_node at 0x000001890A44CC18>\n"
     ]
    },
    {
     "data": {
      "text/plain": [
       "(-1.0, 2.0)"
      ]
     },
     "execution_count": 160,
     "metadata": {},
     "output_type": "execute_result"
    },
    {
     "data": {
      "image/png": "[encoded data removed]",
      "text/plain": [
       "<Figure size 432x288 with 1 Axes>"
      ]
     },
     "metadata": {
      "needs_background": "light"
     },
     "output_type": "display_data"
    }
   ],
   "source": [
    "dataset = load_dataset('./data/ex00.txt')\n",
    "tree = build_tree(dataset, get_leaf_node, calculate_total_variance, (1, 4))\n",
    "\n",
    "figure = plt.figure()\n",
    "plt.scatter(dataset[:, 0], dataset[:, 1], c='orange', s=15)\n",
    "plt.xlabel('x')\n",
    "plt.ylabel('y')\n",
    "plt.xlim(-0.2, 1.2)\n",
    "plt.ylim(-1.0, 2.0)"
   ]
  },
  {
   "cell_type": "code",
   "execution_count": 163,
   "metadata": {},
   "outputs": [
    {
     "data": {
      "text/plain": [
       "(-1.0, 5.0)"
      ]
     },
     "execution_count": 163,
     "metadata": {},
     "output_type": "execute_result"
    },
    {
     "data": {
      "image/png": "[encoded data removed]",
      "text/plain": [
       "<Figure size 432x288 with 1 Axes>"
      ]
     },
     "metadata": {
      "needs_background": "light"
     },
     "output_type": "display_data"
    }
   ],
   "source": [
    "dataset = load_dataset('./data/ex0.txt')\n",
    "tree = build_tree(dataset)\n",
    "type(tree).__name__\n",
    "figure = plt.figure()\n",
    "plt.scatter(dataset[:, 1], dataset[:, -1], c='orange', s=15)\n",
    "plt.xlabel('x')\n",
    "plt.ylabel('y')\n",
    "plt.xlim(-0.2, 1.2)\n",
    "plt.ylim(-1.0, 5.0)"
   ]
  },
  {
   "cell_type": "code",
   "execution_count": 164,
   "metadata": {},
   "outputs": [
    {
     "name": "stdout",
     "output_type": "stream",
     "text": [
      "merging\n",
      "merging\n",
      "merging\n",
      "merging\n",
      "merging\n",
      "merging\n",
      "merging\n",
      "merging\n",
      "merging\n",
      "merging\n",
      "merging\n",
      "merging\n",
      "merging\n",
      "merging\n",
      "merging\n",
      "merging\n",
      "merging\n",
      "merging\n",
      "merging\n",
      "merging\n",
      "merging\n",
      "merging\n",
      "merging\n",
      "merging\n",
      "merging\n",
      "merging\n",
      "merging\n",
      "merging\n",
      "merging\n",
      "merging\n",
      "merging\n"
     ]
    }
   ],
   "source": [
    "dataset = load_dataset('./data/ex2.txt')\n",
    "tree = build_tree(dataset, ops=(0, 1))\n",
    "test = load_dataset('./data/ex2test.txt')\n",
    "pruned_tree = prune_tree(tree, test)"
   ]
  },
  {
   "cell_type": "code",
   "execution_count": 175,
   "metadata": {},
   "outputs": [
    {
     "data": {
      "text/plain": [
       "array([1.69855694e-03, 1.19647739e+01])"
      ]
     },
     "execution_count": 175,
     "metadata": {},
     "output_type": "execute_result"
    }
   ],
   "source": [
    "dat4 = load_dataset('./data/exp2.txt')\n",
    "tree4 = build_tree(dat4, get_leaf=linear_leaf, err_calc=calculate_linear_model_error, ops=(1, 10))"
   ]
  },
  {
   "cell_type": "code",
   "execution_count": 184,
   "metadata": {},
   "outputs": [],
   "source": [
    "train = load_dataset('./data/bikeSpeedVsIq_train.txt')\n",
    "test = load_dataset('./data/bikeSpeedVsIq_test.txt')\n",
    "\n",
    "tree_reg = build_tree(train, get_leaf_node, calculate_total_variance, ops=(1, 20))\n",
    "tree_model = build_tree(train, linear_leaf, calculate_linear_model_error, ops=(1, 20))\n",
    "\n",
    "y_pred_regtree = predict(tree_reg, test, 'CART')\n",
    "y_pred_modeltree = predict(tree_model, test, 'model')"
   ]
  },
  {
   "cell_type": "code",
   "execution_count": 189,
   "metadata": {},
   "outputs": [
    {
     "data": {
      "text/plain": [
       "0.9760412191380607"
      ]
     },
     "execution_count": 189,
     "metadata": {},
     "output_type": "execute_result"
    }
   ],
   "source": [
    "np.corrcoef(y_pred_regtree, test[:, -1])[0, 1]\n",
    "np.corrcoef(y_pred_modeltree, test[:, -1])[0, 1]"
   ]
  },
  {
   "cell_type": "code",
   "execution_count": null,
   "metadata": {},
   "outputs": [],
   "source": []
  }
 ],
 "metadata": {
  "kernelspec": {
   "display_name": "Python 3",
   "language": "python",
   "name": "python3"
  },
  "language_info": {
   "codemirror_mode": {
    "name": "ipython",
    "version": 3
   },
   "file_extension": ".py",
   "mimetype": "text/x-python",
   "name": "python",
   "nbconvert_exporter": "python",
   "pygments_lexer": "ipython3",
   "version": "3.7.6"
  }
 },
 "nbformat": 4,
 "nbformat_minor": 4
}
