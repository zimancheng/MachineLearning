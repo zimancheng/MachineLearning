{
 "cells": [
  {
   "cell_type": "code",
   "execution_count": 2,
   "metadata": {},
   "outputs": [
    {
     "data": {
      "text/plain": [
       "['a', 's']"
      ]
     },
     "execution_count": 2,
     "metadata": {},
     "output_type": "execute_result"
    }
   ],
   "source": [
    "#use list(dict) to directly get the key list of the dictionary\n",
    "#it is equivalent to d1.keys()\n",
    "\n",
    "d1 = {\"a\":30, \"s\":30}\n",
    "a1 = list(d1)\n",
    "a1"
   ]
  },
  {
   "cell_type": "markdown",
   "metadata": {},
   "source": [
    "# Function Attributes and How to Instance"
   ]
  },
  {
   "cell_type": "code",
   "execution_count": 23,
   "metadata": {},
   "outputs": [
    {
     "name": "stdout",
     "output_type": "stream",
     "text": [
      "abcefg\n"
     ]
    }
   ],
   "source": [
    "#function attributes can be defined inside the function,\n",
    "#or can be defined outside the function (in another func or even in another module)\n",
    "#can be extrapolate to modules as well\n",
    "def myfunc1():\n",
    "    myfunc1.var1 = \"abc\"\n",
    "\n",
    "def myfunc2():\n",
    "    myfunc1.var2 = \"efg\"\n",
    "    print(myfunc1.var1 + myfunc1.var2)\n",
    "    \n",
    "myfunc1() # note myfunc() has to be created an instance first before its attributes can be used in print\n",
    "myfunc2()"
   ]
  },
  {
   "cell_type": "code",
   "execution_count": 28,
   "metadata": {},
   "outputs": [
    {
     "ename": "AttributeError",
     "evalue": "'function' object has no attribute 'var1'",
     "output_type": "error",
     "traceback": [
      "\u001b[1;31m---------------------------------------------------------------------------\u001b[0m",
      "\u001b[1;31mAttributeError\u001b[0m                            Traceback (most recent call last)",
      "\u001b[1;32m<ipython-input-28-76ce833b104d>\u001b[0m in \u001b[0;36m<module>\u001b[1;34m\u001b[0m\n\u001b[0;32m      7\u001b[0m \u001b[1;33m\u001b[0m\u001b[0m\n\u001b[0;32m      8\u001b[0m \u001b[0mmyfunc4\u001b[0m\u001b[1;33m(\u001b[0m\u001b[1;33m)\u001b[0m \u001b[1;31m#it's still valid since the attributes are not being used, so you don't have to have an instance of myfunc\u001b[0m\u001b[1;33m\u001b[0m\u001b[1;33m\u001b[0m\u001b[0m\n\u001b[1;32m----> 9\u001b[1;33m \u001b[0mprint\u001b[0m\u001b[1;33m(\u001b[0m\u001b[0mmyfunc3\u001b[0m\u001b[1;33m.\u001b[0m\u001b[0mvar1\u001b[0m\u001b[1;33m)\u001b[0m \u001b[1;31m#error - 'function' object has no attribute 'var1'\u001b[0m\u001b[1;33m\u001b[0m\u001b[1;33m\u001b[0m\u001b[0m\n\u001b[0m\u001b[0;32m     10\u001b[0m \u001b[0mprint\u001b[0m\u001b[1;33m(\u001b[0m\u001b[0mmyfunc3\u001b[0m\u001b[1;33m.\u001b[0m\u001b[0mvar2\u001b[0m\u001b[1;33m)\u001b[0m \u001b[1;31m#valid since the myfunc4 has been called thus myfunc3.var2 has been created.\u001b[0m\u001b[1;33m\u001b[0m\u001b[1;33m\u001b[0m\u001b[0m\n\u001b[0;32m     11\u001b[0m \u001b[1;33m\u001b[0m\u001b[0m\n",
      "\u001b[1;31mAttributeError\u001b[0m: 'function' object has no attribute 'var1'"
     ]
    }
   ],
   "source": [
    "#if it's written as the following\n",
    "def myfunc3():\n",
    "    myfunc3.var1 = \"abc\"\n",
    "\n",
    "def myfunc4():\n",
    "    myfunc3.var2 = \"efg\"\n",
    "    \n",
    "myfunc4() #it's still valid since the attributes are not being used, so you don't have to have an instance of myfunc\n",
    "print(myfunc3.var1) #error - 'function' object has no attribute 'var1'\n",
    "print(myfunc3.var2) #valid since the myfunc4 has been called thus myfunc3.var2 has been created.\n",
    "\n",
    "#i.e. the attributes, no matter where it's defined, will not be created an instance until that definition code has been executed. "
   ]
  },
  {
   "cell_type": "code",
   "execution_count": 35,
   "metadata": {},
   "outputs": [
    {
     "name": "stdout",
     "output_type": "stream",
     "text": [
      "b'\\x80\\x03X\\x10\\x00\\x00\\x00this is a stringq\\x00.'\n",
      "this is a string\n"
     ]
    },
    {
     "data": {
      "text/plain": [
       "'\\npickle.dump(str1, file)     serialize the string and write into a file object\\npickle.load(file)           from the file object, deserialize the binary object and returns\\n'"
      ]
     },
     "execution_count": 35,
     "metadata": {},
     "output_type": "execute_result"
    }
   ],
   "source": [
    "# Pickle module for serialization\n",
    "\n",
    "import pickle\n",
    "\n",
    "str1 = \"this is a string\"\n",
    "bi_str = pickle.dumps(str1) # serialize the string (can be any object) into a binary object and returns \n",
    "print(bi_str)\n",
    "\n",
    "str2 = pickle.loads(bi_str) # unserialize the binary object into a string and returns\n",
    "print(str2)   \n",
    "\n",
    "\"\"\"\n",
    "1. pickle.dump(obj, file, protocol=None,)\n",
    "\n",
    "    必填参数obj表示将要封装的对象\n",
    "\n",
    "    必填参数file表示obj要写入的文件对象，file必须以二进制可写模式打开，即“wb”\n",
    "\n",
    "    可选参数protocol表示告知pickler使用的协议，支持的协议有0,1,2,3，默认的协议是添加在Python 3中的协议3\n",
    "    \n",
    "2. pickle.load(file,*,fix_imports=True, encoding=\"ASCII\", errors=\"strict\")\n",
    "\n",
    "    必填参数file必须以二进制可读模式打开，即“rb”，其他都为可选参数\n",
    "\n",
    "\"\"\"\n"
   ]
  },
  {
   "cell_type": "code",
   "execution_count": null,
   "metadata": {},
   "outputs": [],
   "source": []
  }
 ],
 "metadata": {
  "kernelspec": {
   "display_name": "Python 3",
   "language": "python",
   "name": "python3"
  },
  "language_info": {
   "codemirror_mode": {
    "name": "ipython",
    "version": 3
   },
   "file_extension": ".py",
   "mimetype": "text/x-python",
   "name": "python",
   "nbconvert_exporter": "python",
   "pygments_lexer": "ipython3",
   "version": "3.7.6"
  }
 },
 "nbformat": 4,
 "nbformat_minor": 4
}
