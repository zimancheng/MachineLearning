{
 "cells": [
  {
   "cell_type": "code",
   "execution_count": 134,
   "metadata": {},
   "outputs": [],
   "source": [
    "import numpy as np\n",
    "import matplotlib.pyplot as plt\n",
    "\n",
    "\n",
    "\n",
    "def load_dataset(path):\n",
    "    \"\"\"From path load data into a ndarray of x matrix and an array of labels.\n",
    "    \n",
    "    Args:\n",
    "        path: the path to the txt file\n",
    "    Returns:\n",
    "        dataset: ndarray containing feature vectors\n",
    "        labels: array containing labels\n",
    "    \"\"\"\n",
    "    # Load one row to get size \n",
    "    with open(path, 'r') as fr:\n",
    "        first_row = fr.readline().strip().split('\\t')\n",
    "        \n",
    "    x_cols = [i for i in range(len(first_row) - 1)]\n",
    "    l_col = [len(first_row) - 1]\n",
    "    \n",
    "    dataset = np.loadtxt(path, delimiter='\\t', usecols=x_cols)\n",
    "    dataset_w_x0 = add_intercept(dataset)\n",
    "    labels = np.loadtxt(path, delimiter='\\t', usecols=l_col)\n",
    "    return dataset_w_x0, labels\n",
    "\n",
    "def add_intercept(x):\n",
    "    \"\"\"\n",
    "    Add intercept to matrix x.\n",
    "\n",
    "    Args: \n",
    "        x: two dimensional numpy array.\n",
    "    Returns:\n",
    "        New matrix same as input x with 1's in the 0th column.\n",
    "    \"\"\"\n",
    "    m, n = x.shape\n",
    "    new_x = np.zeros((m, n + 1), dtype=x.dtype)\n",
    "    new_x[:, 0] = 1\n",
    "    new_x[:, 1:] = x\n",
    "    return new_x\n",
    "\n",
    "def sigmoid(x):\n",
    "    \"\"\"Return the sigmoid function result given x.\"\"\"\n",
    "    if x >= 0:\n",
    "        return 1 / (1 + np.exp(-x))\n",
    "    else:\n",
    "        return np.exp(x) / (1 + np.exp(x)) # to avoid overflow\n",
    "\n",
    "def batch_gradient_ascent(dataset, labels, alpha=0.001, eps=1e-5):\n",
    "    \"\"\"Using batch gradient ascent to solve for MLE.\n",
    "    \n",
    "    Args:\n",
    "        dataset: ndarray containing feature vectors, dataset contains x0 = 1\n",
    "        labels: array containing labels\n",
    "        alpha: tuning parameter \n",
    "        eps: error parameter\n",
    "    Returns:\n",
    "        theta: the parameter of logistic regression. Shape (m, )\n",
    "    \"\"\"\n",
    "    m, n = dataset.shape\n",
    "    theta = np.zeros(n)\n",
    "#     cycle = 0\n",
    "\n",
    "    while True:\n",
    "        theta_prev = np.copy(theta)\n",
    "\n",
    "        h = sigmoid(dataset.dot(theta))\n",
    "        deriv_log_l = dataset.T.dot(labels - h)\n",
    "        theta = theta_prev + alpha * deriv_log_l\n",
    "        \n",
    "#         cycle += 1\n",
    "\n",
    "        if np.linalg.norm(theta - theta_prev, ord = 1) < eps:\n",
    "            break\n",
    "    \n",
    "    return theta\n",
    "\n",
    "def stochastic_gradient_ascent(dataset, labels, alpha=0.001, eps=1e-5):\n",
    "    \"\"\"Using stochastic gradient ascent to solve for MLE.\n",
    "    \n",
    "    Args:\n",
    "        dataset: ndarray containing feature vectors, dataset contains x0 = 1\n",
    "        labels: array containing labels\n",
    "        alpha: tuning parameter \n",
    "        eps: error parameter\n",
    "    Returns:\n",
    "        theta: the parameter of logistic regression. Shape (m, )\n",
    "    \"\"\"\n",
    "    m, n = dataset.shape\n",
    "    theta = np.zeros(n)\n",
    "#     cycle = 0\n",
    "\n",
    "    while True:\n",
    "\n",
    "        for i in range(m):\n",
    "            theta_prev = np.copy(theta)\n",
    "\n",
    "            h_i = sigmoid(dataset[i].dot(theta))\n",
    "            deriv_log_l_i = dataset[i].dot(labels[i] - h_i)\n",
    "            theta += alpha * deriv_log_l_i\n",
    "#             cycle += 1\n",
    "\n",
    "        if np.linalg.norm(theta - theta_prev, ord=1) < eps:\n",
    "            break\n",
    "\n",
    "    return theta\n",
    "\n",
    "def stochastic_gradient_ascent_modified(dataset, labels, max_cycle=150):\n",
    "    \"\"\"Using stochastic gradient ascent to solve for MLE with gradually changing alpha parameter.\n",
    "    \n",
    "    Args:\n",
    "        dataset: ndarray containing feature vectors, dataset contains x0 = 1\n",
    "        labels: array containing labels\n",
    "        max_cycle: maximum cycle for iteratively solving for theta\n",
    "    Returns:\n",
    "        theta: the parameter of logistic regression. Shape (m, )\n",
    "    \"\"\"\n",
    "    m, n = dataset.shape\n",
    "    theta = np.zeros(n)\n",
    "\n",
    "    for j in range(max_cycle):\n",
    "        index_list = list(range(m))\n",
    "\n",
    "        for i in range(m):\n",
    "            alpha = 4.0 / (1.0 + i + j) + 0.01\n",
    "            ind = int(np.random.uniform(0, len(index_list)))\n",
    "\n",
    "            h_ind = sigmoid(dataset[ind].dot(theta))\n",
    "            deriv_log_l_ind = dataset[ind].dot(labels[ind] - h_ind)\n",
    "            theta += alpha * deriv_log_l_ind\n",
    "\n",
    "            del index_list[ind]\n",
    "\n",
    "    return theta\n",
    "\n",
    "def plot_model(file_path, save_path, theta):\n",
    "    \"\"\"\n",
    "    Plot dataset and fitted logistic regression parameters.\n",
    "\n",
    "    Args:\n",
    "        path: path to the txt file with dataset and labels.\n",
    "        theta: Vector of parameters for logistic regression.\n",
    "    \"\"\"\n",
    "    # Plot dataset\n",
    "    x, y = load_dataset(file_path)\n",
    "    fig, ax = plt.subplots()\n",
    "    ax.plot(x[y == 1, -2], x[y == 1, -1], 'bx', linewidth=2)\n",
    "    ax.plot(x[y == 0, -2], x[y == 0, -1], 'go', linewidth=2)\n",
    "\n",
    "    # Plot decision boundary (found by solving theta^T x = 0)\n",
    "    margin1 = (max(x[:, -2]) - min(x[:, -2])) * 0.2\n",
    "    margin2 = (max(x[:, -1]) - min(x[:, -1])) * 0.2\n",
    "    x1 = np.arange(min(x[:, -2]) - margin1, max(x[:, -2]) + margin1, 0.01)\n",
    "    x2 = -(theta[0] + theta[1]*x1) / theta[2]\n",
    "    ax.plot(x1, x2, c = 'red', linewidth=2)\n",
    "\n",
    "    # Plot limits and labels\n",
    "    ax.set_xlim(min(x[:, -2]) - margin1, max(x[:, -2]) + margin1)\n",
    "    ax.set_ylim(min(x[:, -1]) - margin2, max(x[:, -1]) + margin2)\n",
    "    ax.set_xlabel('x1')\n",
    "    ax.set_ylabel('x2')\n",
    "    plt.savefig(save_path)\n",
    "    plt.show()"
   ]
  },
  {
   "cell_type": "code",
   "execution_count": 125,
   "metadata": {
    "scrolled": false
   },
   "outputs": [
    {
     "data": {
      "text/plain": [
       "array([[ 1.0000000e+00, -1.7612000e-02,  1.4053064e+01],\n",
       "       [ 1.0000000e+00, -1.3956340e+00,  4.6625410e+00],\n",
       "       [ 1.0000000e+00, -7.5215700e-01,  6.5386200e+00],\n",
       "       [ 1.0000000e+00, -1.3223710e+00,  7.1528530e+00],\n",
       "       [ 1.0000000e+00,  4.2336300e-01,  1.1054677e+01],\n",
       "       [ 1.0000000e+00,  4.0670400e-01,  7.0673350e+00],\n",
       "       [ 1.0000000e+00,  6.6739400e-01,  1.2741452e+01],\n",
       "       [ 1.0000000e+00, -2.4601500e+00,  6.8668050e+00],\n",
       "       [ 1.0000000e+00,  5.6941100e-01,  9.5487550e+00],\n",
       "       [ 1.0000000e+00, -2.6632000e-02,  1.0427743e+01],\n",
       "       [ 1.0000000e+00,  8.5043300e-01,  6.9203340e+00],\n",
       "       [ 1.0000000e+00,  1.3471830e+00,  1.3175500e+01],\n",
       "       [ 1.0000000e+00,  1.1768130e+00,  3.1670200e+00],\n",
       "       [ 1.0000000e+00, -1.7818710e+00,  9.0979530e+00],\n",
       "       [ 1.0000000e+00, -5.6660600e-01,  5.7490030e+00],\n",
       "       [ 1.0000000e+00,  9.3163500e-01,  1.5895050e+00],\n",
       "       [ 1.0000000e+00, -2.4205000e-02,  6.1518230e+00],\n",
       "       [ 1.0000000e+00, -3.6453000e-02,  2.6909880e+00],\n",
       "       [ 1.0000000e+00, -1.9694900e-01,  4.4416500e-01],\n",
       "       [ 1.0000000e+00,  1.0144590e+00,  5.7543990e+00],\n",
       "       [ 1.0000000e+00,  1.9852980e+00,  3.2306190e+00],\n",
       "       [ 1.0000000e+00, -1.6934530e+00, -5.5754000e-01],\n",
       "       [ 1.0000000e+00, -5.7652500e-01,  1.1778922e+01],\n",
       "       [ 1.0000000e+00, -3.4681100e-01, -1.6787300e+00],\n",
       "       [ 1.0000000e+00, -2.1244840e+00,  2.6724710e+00],\n",
       "       [ 1.0000000e+00,  1.2179160e+00,  9.5970150e+00],\n",
       "       [ 1.0000000e+00, -7.3392800e-01,  9.0986870e+00],\n",
       "       [ 1.0000000e+00, -3.6420010e+00, -1.6180870e+00],\n",
       "       [ 1.0000000e+00,  3.1598500e-01,  3.5239530e+00],\n",
       "       [ 1.0000000e+00,  1.4166140e+00,  9.6192320e+00],\n",
       "       [ 1.0000000e+00, -3.8632300e-01,  3.9892860e+00],\n",
       "       [ 1.0000000e+00,  5.5692100e-01,  8.2949840e+00],\n",
       "       [ 1.0000000e+00,  1.2248630e+00,  1.1587360e+01],\n",
       "       [ 1.0000000e+00, -1.3478030e+00, -2.4060510e+00],\n",
       "       [ 1.0000000e+00,  1.1966040e+00,  4.9518510e+00],\n",
       "       [ 1.0000000e+00,  2.7522100e-01,  9.5436470e+00],\n",
       "       [ 1.0000000e+00,  4.7057500e-01,  9.3324880e+00],\n",
       "       [ 1.0000000e+00, -1.8895670e+00,  9.5426620e+00],\n",
       "       [ 1.0000000e+00, -1.5278930e+00,  1.2150579e+01],\n",
       "       [ 1.0000000e+00, -1.1852470e+00,  1.1309318e+01],\n",
       "       [ 1.0000000e+00, -4.4567800e-01,  3.2973030e+00],\n",
       "       [ 1.0000000e+00,  1.0422220e+00,  6.1051550e+00],\n",
       "       [ 1.0000000e+00, -6.1878700e-01,  1.0320986e+01],\n",
       "       [ 1.0000000e+00,  1.1520830e+00,  5.4846700e-01],\n",
       "       [ 1.0000000e+00,  8.2853400e-01,  2.6760450e+00],\n",
       "       [ 1.0000000e+00, -1.2377280e+00,  1.0549033e+01],\n",
       "       [ 1.0000000e+00, -6.8356500e-01, -2.1661250e+00],\n",
       "       [ 1.0000000e+00,  2.2945600e-01,  5.9219380e+00],\n",
       "       [ 1.0000000e+00, -9.5988500e-01,  1.1555336e+01],\n",
       "       [ 1.0000000e+00,  4.9291100e-01,  1.0993324e+01],\n",
       "       [ 1.0000000e+00,  1.8499200e-01,  8.7214880e+00],\n",
       "       [ 1.0000000e+00, -3.5571500e-01,  1.0325976e+01],\n",
       "       [ 1.0000000e+00, -3.9782200e-01,  8.0583970e+00],\n",
       "       [ 1.0000000e+00,  8.2483900e-01,  1.3730343e+01],\n",
       "       [ 1.0000000e+00,  1.5072780e+00,  5.0278660e+00],\n",
       "       [ 1.0000000e+00,  9.9671000e-02,  6.8358390e+00],\n",
       "       [ 1.0000000e+00, -3.4400800e-01,  1.0717485e+01],\n",
       "       [ 1.0000000e+00,  1.7859280e+00,  7.7186450e+00],\n",
       "       [ 1.0000000e+00, -9.1880100e-01,  1.1560217e+01],\n",
       "       [ 1.0000000e+00, -3.6400900e-01,  4.7473000e+00],\n",
       "       [ 1.0000000e+00, -8.4172200e-01,  4.1190830e+00],\n",
       "       [ 1.0000000e+00,  4.9042600e-01,  1.9605390e+00],\n",
       "       [ 1.0000000e+00, -7.1940000e-03,  9.0757920e+00],\n",
       "       [ 1.0000000e+00,  3.5610700e-01,  1.2447863e+01],\n",
       "       [ 1.0000000e+00,  3.4257800e-01,  1.2281162e+01],\n",
       "       [ 1.0000000e+00, -8.1082300e-01, -1.4660180e+00],\n",
       "       [ 1.0000000e+00,  2.5307770e+00,  6.4768010e+00],\n",
       "       [ 1.0000000e+00,  1.2966830e+00,  1.1607559e+01],\n",
       "       [ 1.0000000e+00,  4.7548700e-01,  1.2040035e+01],\n",
       "       [ 1.0000000e+00, -7.8327700e-01,  1.1009725e+01],\n",
       "       [ 1.0000000e+00,  7.4798000e-02,  1.1023650e+01],\n",
       "       [ 1.0000000e+00, -1.3374720e+00,  4.6833900e-01],\n",
       "       [ 1.0000000e+00, -1.0278100e-01,  1.3763651e+01],\n",
       "       [ 1.0000000e+00, -1.4732400e-01,  2.8748460e+00],\n",
       "       [ 1.0000000e+00,  5.1838900e-01,  9.8870350e+00],\n",
       "       [ 1.0000000e+00,  1.0153990e+00,  7.5718820e+00],\n",
       "       [ 1.0000000e+00, -1.6580860e+00, -2.7255000e-02],\n",
       "       [ 1.0000000e+00,  1.3199440e+00,  2.1712280e+00],\n",
       "       [ 1.0000000e+00,  2.0562160e+00,  5.0199810e+00],\n",
       "       [ 1.0000000e+00, -8.5163300e-01,  4.3756910e+00],\n",
       "       [ 1.0000000e+00, -1.5100470e+00,  6.0619920e+00],\n",
       "       [ 1.0000000e+00, -1.0766370e+00, -3.1818880e+00],\n",
       "       [ 1.0000000e+00,  1.8210960e+00,  1.0283990e+01],\n",
       "       [ 1.0000000e+00,  3.0101500e+00,  8.4017660e+00],\n",
       "       [ 1.0000000e+00, -1.0994580e+00,  1.6882740e+00],\n",
       "       [ 1.0000000e+00, -8.3487200e-01, -1.7338690e+00],\n",
       "       [ 1.0000000e+00, -8.4663700e-01,  3.8490750e+00],\n",
       "       [ 1.0000000e+00,  1.4001020e+00,  1.2628781e+01],\n",
       "       [ 1.0000000e+00,  1.7528420e+00,  5.4681660e+00],\n",
       "       [ 1.0000000e+00,  7.8557000e-02,  5.9736000e-02],\n",
       "       [ 1.0000000e+00,  8.9392000e-02, -7.1530000e-01],\n",
       "       [ 1.0000000e+00,  1.8256620e+00,  1.2693808e+01],\n",
       "       [ 1.0000000e+00,  1.9744500e-01,  9.7446380e+00],\n",
       "       [ 1.0000000e+00,  1.2611700e-01,  9.2231100e-01],\n",
       "       [ 1.0000000e+00, -6.7979700e-01,  1.2205300e+00],\n",
       "       [ 1.0000000e+00,  6.7798300e-01,  2.5566660e+00],\n",
       "       [ 1.0000000e+00,  7.6134900e-01,  1.0693862e+01],\n",
       "       [ 1.0000000e+00, -2.1687910e+00,  1.4363200e-01],\n",
       "       [ 1.0000000e+00,  1.3886100e+00,  9.3419970e+00],\n",
       "       [ 1.0000000e+00,  3.1702900e-01,  1.4739025e+01]])"
      ]
     },
     "execution_count": 125,
     "metadata": {},
     "output_type": "execute_result"
    }
   ],
   "source": [
    "dataset, labels = load_dataset('testSet.txt')\n",
    "dataset"
   ]
  },
  {
   "cell_type": "code",
   "execution_count": 74,
   "metadata": {},
   "outputs": [
    {
     "data": {
      "text/plain": [
       "array([14.59046459,  1.24261711, -1.98108588])"
      ]
     },
     "execution_count": 74,
     "metadata": {},
     "output_type": "execute_result"
    }
   ],
   "source": [
    "theta = batch_gradient_ascent(dataset, labels)\n",
    "theta"
   ]
  },
  {
   "cell_type": "code",
   "execution_count": 75,
   "metadata": {},
   "outputs": [
    {
     "data": {
      "image/png": "[encoded data removed]",
      "text/plain": [
       "<Figure size 432x288 with 1 Axes>"
      ]
     },
     "metadata": {
      "needs_background": "light"
     },
     "output_type": "display_data"
    }
   ],
   "source": [
    "plot_model('testSet.txt', 'log_reg_1.png', theta)"
   ]
  },
  {
   "cell_type": "code",
   "execution_count": 83,
   "metadata": {},
   "outputs": [],
   "source": [
    "theta1 = stochastic_gradient_ascent(dataset, labels)"
   ]
  },
  {
   "cell_type": "code",
   "execution_count": 84,
   "metadata": {},
   "outputs": [
    {
     "data": {
      "text/plain": [
       "array([ 7.0362144 ,  0.70333958, -0.9933474 ])"
      ]
     },
     "execution_count": 84,
     "metadata": {},
     "output_type": "execute_result"
    }
   ],
   "source": [
    "theta1"
   ]
  },
  {
   "cell_type": "code",
   "execution_count": 85,
   "metadata": {},
   "outputs": [
    {
     "data": {
      "image/png": "[encoded data removed]",
      "text/plain": [
       "<Figure size 432x288 with 1 Axes>"
      ]
     },
     "metadata": {
      "needs_background": "light"
     },
     "output_type": "display_data"
    }
   ],
   "source": [
    "plot_model('testSet.txt', 'log_reg_2.png', theta1)"
   ]
  },
  {
   "cell_type": "code",
   "execution_count": 93,
   "metadata": {},
   "outputs": [
    {
     "data": {
      "text/plain": [
       "array([13.38749229,  0.84764874, -1.99838197])"
      ]
     },
     "execution_count": 93,
     "metadata": {},
     "output_type": "execute_result"
    }
   ],
   "source": [
    "theta2 = stochastic_gradient_ascent_modified(dataset, labels)\n",
    "theta2"
   ]
  },
  {
   "cell_type": "code",
   "execution_count": 94,
   "metadata": {},
   "outputs": [
    {
     "data": {
      "image/png": "[encoded data removed]",
      "text/plain": [
       "<Figure size 432x288 with 1 Axes>"
      ]
     },
     "metadata": {
      "needs_background": "light"
     },
     "output_type": "display_data"
    }
   ],
   "source": [
    "plot_model('testSet.txt', 'log_reg_3.png', theta2)"
   ]
  },
  {
   "cell_type": "code",
   "execution_count": 97,
   "metadata": {},
   "outputs": [],
   "source": [
    "def classify_x(x, theta):\n",
    "    \"\"\"Classify if a new example x using logistic regression.\n",
    "    \n",
    "    Args:\n",
    "        x: array as the new example. Shape (n,)\n",
    "        theta: logistic regression model parameters of training set\n",
    "    Return:\n",
    "        1 for postive. 0 for negative\n",
    "    \"\"\"\n",
    "    h = sigmoid(x.dot(theta))\n",
    "    if h > 0.5: \n",
    "        return 1\n",
    "    else:\n",
    "        return 0\n",
    "\n",
    "def colic_test(train_path, test_path):\n",
    "    \"\"\"Build logistic regression on training set and use it on the test set.\n",
    "    \n",
    "    Args:\n",
    "        train_path: path to the txt file containing training dataset\n",
    "        test_path: path to the txt file containing test dataset\n",
    "    Return:\n",
    "        err_rate: the error rate of classifying test dataset\n",
    "    \"\"\"\n",
    "    # Load dataset\n",
    "    x_train, y_train = load_dataset(train_path)\n",
    "    x_test, y_test = load_dataset(test_path)\n",
    "\n",
    "    # Build model using stochastic gradient ascent\n",
    "    theta = stochastic_gradient_ascent_modified(x_train, y_train, 500)\n",
    "\n",
    "    # Calculate error rate \n",
    "    err_cnt = 0\n",
    "    for i in range(x_test.shape[0]):\n",
    "        if classify_x(x_test[i], theta) != y_test[i]:\n",
    "            err_cnt += 1\n",
    "\n",
    "    err_rate = float(err_cnt) / x_test.shape[0]\n",
    "    print(\"The error rate of this test is: {}\".format(err_rate))\n",
    "    return err_rate\n",
    "\n",
    "def multi_tests(num, train_path, test_path):\n",
    "    \"\"\"Perform colic test multiple times and get an average error rate.\n",
    "    \n",
    "    Args:\n",
    "        num: number of tests to run\n",
    "        train_path: path to the txt file containing training dataset\n",
    "        test_path: path to the txt file containing test dataset\n",
    "    Returns:\n",
    "        ave_err_rate: the average test error rate\n",
    "    \"\"\"\n",
    "    err_sum = 0\n",
    "\n",
    "    for i in range(num):\n",
    "        err_rate = colic_test(train_path, test_path)\n",
    "        err_sum += err_rate\n",
    "    \n",
    "    ave_err_rate = err_sum / float(num)\n",
    "    print(\"The average test error rate over {0} tests is: {1}\".format(num, ave_err_rate))"
   ]
  },
  {
   "cell_type": "code",
   "execution_count": 135,
   "metadata": {},
   "outputs": [
    {
     "name": "stdout",
     "output_type": "stream",
     "text": [
      "The error rate of this test is: 0.3283582089552239\n"
     ]
    },
    {
     "data": {
      "text/plain": [
       "0.3283582089552239"
      ]
     },
     "execution_count": 135,
     "metadata": {},
     "output_type": "execute_result"
    }
   ],
   "source": [
    "colic_test('horseColicTraining.txt', 'horseColicTest.txt')"
   ]
  },
  {
   "cell_type": "code",
   "execution_count": 136,
   "metadata": {},
   "outputs": [
    {
     "name": "stdout",
     "output_type": "stream",
     "text": [
      "The error rate of this test is: 0.373134328358209\n",
      "The error rate of this test is: 0.417910447761194\n",
      "The error rate of this test is: 0.34328358208955223\n",
      "The error rate of this test is: 0.373134328358209\n",
      "The error rate of this test is: 0.3880597014925373\n",
      "The error rate of this test is: 0.26865671641791045\n",
      "The error rate of this test is: 0.3582089552238806\n",
      "The error rate of this test is: 0.31343283582089554\n",
      "The error rate of this test is: 0.34328358208955223\n",
      "The error rate of this test is: 0.2835820895522388\n",
      "The average test error rate over 10 tests is: 0.346268656716418\n"
     ]
    }
   ],
   "source": [
    "multi_tests(10, 'horseColicTraining.txt', 'horseColicTest.txt')"
   ]
  },
  {
   "cell_type": "code",
   "execution_count": 126,
   "metadata": {},
   "outputs": [],
   "source": [
    "x_train, y_train = load_dataset('horseColicTraining.txt')"
   ]
  },
  {
   "cell_type": "code",
   "execution_count": 127,
   "metadata": {},
   "outputs": [
    {
     "data": {
      "text/plain": [
       "array([[ 1. ,  2. ,  1. , ...,  8.4,  0. ,  0. ],\n",
       "       [ 1. ,  1. ,  1. , ..., 85. ,  2. ,  2. ],\n",
       "       [ 1. ,  2. ,  1. , ...,  6.7,  0. ,  0. ],\n",
       "       ...,\n",
       "       [ 1. ,  1. ,  1. , ...,  6.8,  0. ,  0. ],\n",
       "       [ 1. ,  1. ,  1. , ...,  6. ,  3. ,  3.4],\n",
       "       [ 1. ,  1. ,  1. , ..., 62. ,  1. ,  1. ]])"
      ]
     },
     "execution_count": 127,
     "metadata": {},
     "output_type": "execute_result"
    }
   ],
   "source": [
    "x_train"
   ]
  },
  {
   "cell_type": "code",
   "execution_count": 128,
   "metadata": {},
   "outputs": [
    {
     "data": {
      "text/plain": [
       "array([0., 0., 1., 0., 0., 1., 1., 0., 0., 1., 1., 1., 1., 0., 1., 0., 0.,\n",
       "       1., 1., 1., 1., 1., 1., 1., 1., 1., 1., 1., 0., 1., 0., 0., 1., 1.,\n",
       "       1., 0., 0., 1., 1., 0., 0., 1., 1., 0., 0., 0., 1., 1., 0., 0., 1.,\n",
       "       0., 1., 1., 0., 0., 1., 0., 0., 0., 1., 1., 0., 0., 1., 1., 1., 1.,\n",
       "       1., 1., 0., 1., 0., 0., 0., 0., 1., 1., 0., 1., 0., 1., 1., 0., 1.,\n",
       "       1., 0., 0., 1., 1., 1., 0., 1., 0., 1., 1., 1., 0., 1., 1., 1., 0.,\n",
       "       1., 1., 0., 1., 1., 1., 0., 0., 0., 1., 1., 0., 1., 1., 1., 0., 1.,\n",
       "       1., 1., 0., 1., 0., 0., 1., 1., 1., 0., 1., 0., 0., 1., 0., 0., 0.,\n",
       "       1., 1., 1., 1., 0., 0., 1., 0., 1., 1., 0., 1., 1., 1., 0., 1., 1.,\n",
       "       1., 1., 1., 0., 1., 1., 1., 0., 1., 0., 1., 0., 1., 1., 1., 0., 1.,\n",
       "       0., 1., 0., 0., 1., 1., 0., 1., 0., 0., 1., 0., 1., 1., 1., 1., 1.,\n",
       "       1., 1., 1., 1., 1., 0., 1., 1., 0., 0., 1., 1., 1., 0., 0., 1., 1.,\n",
       "       0., 1., 0., 0., 1., 0., 0., 1., 1., 1., 1., 1., 1., 0., 1., 0., 1.,\n",
       "       1., 1., 1., 1., 0., 1., 0., 1., 1., 0., 1., 1., 1., 0., 1., 1., 0.,\n",
       "       0., 0., 1., 0., 1., 1., 0., 1., 0., 1., 1., 0., 0., 0., 1., 1., 0.,\n",
       "       0., 0., 1., 0., 1., 1., 1., 0., 1., 0., 1., 1., 1., 1., 0., 1., 1.,\n",
       "       0., 0., 0., 0., 1., 1., 1., 1., 0., 0., 1., 1., 1., 0., 1., 1., 1.,\n",
       "       1., 0., 0., 0., 1., 0., 0., 0., 1., 0.])"
      ]
     },
     "execution_count": 128,
     "metadata": {},
     "output_type": "execute_result"
    }
   ],
   "source": [
    "y_train"
   ]
  },
  {
   "cell_type": "code",
   "execution_count": 129,
   "metadata": {},
   "outputs": [
    {
     "data": {
      "text/plain": [
       "(299, 22)"
      ]
     },
     "execution_count": 129,
     "metadata": {},
     "output_type": "execute_result"
    }
   ],
   "source": [
    "x_train.shape"
   ]
  },
  {
   "cell_type": "code",
   "execution_count": 131,
   "metadata": {},
   "outputs": [
    {
     "data": {
      "text/plain": [
       "(299,)"
      ]
     },
     "execution_count": 131,
     "metadata": {},
     "output_type": "execute_result"
    }
   ],
   "source": [
    "y_train.shape"
   ]
  },
  {
   "cell_type": "code",
   "execution_count": null,
   "metadata": {},
   "outputs": [],
   "source": []
  }
 ],
 "metadata": {
  "kernelspec": {
   "display_name": "Python 3",
   "language": "python",
   "name": "python3"
  },
  "language_info": {
   "codemirror_mode": {
    "name": "ipython",
    "version": 3
   },
   "file_extension": ".py",
   "mimetype": "text/x-python",
   "name": "python",
   "nbconvert_exporter": "python",
   "pygments_lexer": "ipython3",
   "version": "3.7.6"
  }
 },
 "nbformat": 4,
 "nbformat_minor": 4
}
